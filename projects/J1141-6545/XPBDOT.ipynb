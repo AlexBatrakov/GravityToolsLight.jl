{
 "cells": [
  {
   "cell_type": "code",
   "execution_count": 1,
   "metadata": {},
   "outputs": [
    {
     "data": {
      "text/plain": [
       "true"
      ]
     },
     "metadata": {},
     "output_type": "display_data"
    }
   ],
   "source": [
    "using Contour\n",
    "using JLD\n",
    "using ColorSchemes\n",
    "using Statistics\n",
    "using DelimitedFiles\n",
    "using Distributions\n",
    "using StructArrays\n",
    "using StatsBase\n",
    "using Interpolations\n",
    "using QuadGK\n",
    "using Optim\n",
    "using Roots\n",
    "using HypothesisTests\n",
    "using KernelDensity\n",
    "using QuadGK\n",
    "\n",
    "using Revise\n",
    "using GravityToolsLight\n",
    "using PyPlot\n",
    "pygui(true)"
   ]
  },
  {
   "cell_type": "code",
   "execution_count": null,
   "metadata": {},
   "outputs": [],
   "source": [
    "basic_settings = BasicTempoSettings(\n",
    "    work_dir = \"/Users/abatrakov/Documents/Work/PhD/projects/J1141-6545/full_WN\",\n",
    "    version = Tempo2(),\n",
    "    par_file_init = \"J1141-6545_until_2018_DDSTG.par\",\n",
    "    tim_file = \"J1141-6545_until_2018.tim\",\n",
    "    flags = \"-nobs 34000 -newpar -writeres -residuals\",\n",
    "    tparams = [TP(\"EOS\", \"BSk22\"), TP(\"COMP_TYPE\", \"WD\"), TP(\"ALPHA0\", 0.0), TP(\"BETA0\", 0.0), TP(\"NITS\", 3)],\n",
    "    keys = BasicTempoKeys(silent=true, print_output=true, save_internal_iterations=true, fit_EFACs_EQUADs=false)\n",
    "    )\n",
    "    \n",
    "results_basic = run_tempo_basic(basic_settings)"
   ]
  },
  {
   "cell_type": "code",
   "execution_count": null,
   "metadata": {},
   "outputs": [],
   "source": [
    "basic_settings = BasicTempoSettings(\n",
    "    work_dir = \"/Users/abatrakov/Documents/Work/PhD/projects/J1141-6545/full_data\",\n",
    "    version = Tempo2(),\n",
    "    par_file_init = \"ddgr_latest.par\",\n",
    "    tim_file = \"J1141-6545_pn.tim\",\n",
    "    flags = \"-nobs 23000 -newpar -writeres -residuals\",\n",
    "    tparams = [TP(\"NITS\", 3), TP(\"XPBDOT\", flag=1)],\n",
    "    keys = BasicTempoKeys(silent=true, print_output=true, save_internal_iterations=true, fit_EFACs_EQUADs=false)\n",
    "    )\n",
    "    \n",
    "results_basic = run_tempo_basic(basic_settings)"
   ]
  },
  {
   "cell_type": "code",
   "execution_count": 4,
   "metadata": {},
   "outputs": [],
   "source": [
    "#------------------------------------------------------------------------------------- \n",
    "# WE HAVE PRIOR INFORMATION ABOUT XPBDOT\n",
    "# use sweep or global iterations over XPBDOT to check likelihood\n",
    "#-------------------------------------------------------------------------------------\n",
    "\n",
    "#-------------------------------------------------------------------------------------\n",
    "# FIRSTLY WE FIT FOR XPBDOT IN TEMPO\n",
    "#-------------------------------------------------------------------------------------\n",
    "basic_settings = BasicTempoSettings(\n",
    "    work_dir = \"/Users/abatrakov/Documents/Work/PhD/projects/J1141-6545/full_data\",\n",
    "    version = Tempo2(),\n",
    "    par_file_init = \"DDSTG_init.par\",\n",
    "    tim_file = \"J1141-6545_pn.tim\",\n",
    "    flags = \"-nobs 23000 -newpar -writeres -residuals\",\n",
    "    tparams = [TP(\"EOS\", \"BSk22\"), TP(\"COMP_TYPE\", \"WD\"), TP(\"ALPHA0\", 0.0), TP(\"BETA0\", 0.0), TP(\"NITS\", 1), TP(\"XPBDOT\", -8.3e-14, flag=0)],\n",
    "    keys = BasicTempoKeys(silent=true, print_output=true, save_internal_iterations=true, fit_EFACs_EQUADs=false)\n",
    "    )\n",
    "    \n",
    "results_basic = run_tempo_basic(basic_settings)"
   ]
  },
  {
   "cell_type": "markdown",
   "metadata": {},
   "source": []
  },
  {
   "cell_type": "code",
   "execution_count": 3,
   "metadata": {},
   "outputs": [
    {
     "data": {
      "text/plain": [
       "General Tempo Result:\n",
       "    Internal iteration:\n",
       "        Detailed Tempo Output Result:\n",
       "            Basic Tempo Output Result:\n",
       "                Fit Chisq: 22260.0\n",
       "                Chisqr: 22257.74\n",
       "                Number of Points in Fit: 22285\n",
       "                Number of Fit Parameters: 192\n",
       "                RMS Pre-fit Residual (us): 9877.174\n",
       "                Nfree: 22259\n",
       "                Offset: (0.00583175, 0.00789693)\n",
       "                Offset E * Sqrt(n): 1.17887\n",
       "                Pre/Post: 1.00009\n",
       "                RMS Post-fit Residual (us): 9876.284\n",
       "                Chisqr/Nfree: 0.999944\n",
       "            Fit Parameters:\n",
       "                RAJ  Pre-fit: 3.05919880576274  Post-fit: 3.05919880576129  Unc: 1.5761e-7  Diff: -1.4495e-12  fit: true\n",
       "                DECJ  Pre-fit: -1.14764679499624  Post-fit: -1.14764679499371  Unc: 6.3664e-8  Diff: 2.5231e-12  fit: true\n",
       "                F0  Pre-fit: 2.53872304037579  Post-fit: 2.5387230403758  Unc: 2.5385e-10  Diff: 8.4377e-15  fit: true\n",
       "                F1  Pre-fit: -2.76731191911311e-14  Post-fit: -2.76731191864905e-14  Unc: 2.4201e-18  Diff: 4.6406e-24  fit: true\n",
       "                F2  Pre-fit: 6.93000439203367e-26  Post-fit: 6.92999114516533e-26  Unc: 1.2129e-26  Diff: -1.3247e-31  fit: true\n",
       "                PEPOCH  Pre-fit: 54000.0  Post-fit: 54000.0  Unc: 0.0  Diff: 0.0  fit: false\n",
       "                POSEPOCH  Pre-fit: 54000.0  Post-fit: 54000.0  Unc: 0.0  Diff: 0.0  fit: false\n",
       "                DMEPOCH  Pre-fit: 54000.0  Post-fit: 54000.0  Unc: 0.0  Diff: 0.0  fit: false\n",
       "                DM  Pre-fit: 116.040653744589  Post-fit: 116.04066168681  Unc: 0.031955  Diff: 7.9422e-6  fit: true\n",
       "                PB  Pre-fit: 0.197650961461187  Post-fit: 0.197650961461221  Unc: 1.8564e-11  Diff: 3.4001e-14  fit: true\n",
       "                T0  Pre-fit: 53999.9960283974  Post-fit: 53999.9960283938  Unc: 2.5339e-7  Diff: -3.6307e-9  fit: true\n",
       "                A1  Pre-fit: 1.85891595233705  Post-fit: 1.85891595389756  Unc: 1.4413e-6  Diff: 1.5605e-9  fit: true\n",
       "                OM  Pre-fit: 80.6912622323197  Post-fit: 80.6912549153987  Unc: 0.00050303  Diff: -7.3169e-6  fit: true\n",
       "                ECC  Pre-fit: 0.171875878469132  Post-fit: 0.171875874729  Unc: 9.5394e-7  Diff: -3.7401e-9  fit: true\n",
       "                XPBDOT  Pre-fit: 0.0  Post-fit: 0.0  Unc: 0.0  Diff: 0.0  fit: false\n",
       "                XDOT  Pre-fit: 1.52285962970155e-13  Post-fit: 1.52229703783555e-13  Unc: 1.4352e-14  Diff: -5.6259e-17  fit: true\n",
       "                M2  Pre-fit: 1.01782710969533  Post-fit: 1.01781718355744  Unc: 0.0053149  Diff: -9.9261e-6  fit: true\n",
       "                MTOT  Pre-fit: 2.28961222232306  Post-fit: 2.28963816311137  Unc: 4.1431e-5  Diff: 2.5941e-5  fit: true\n",
       "                GLEP_1  Pre-fit: 54272.697452  Post-fit: 54272.697452  Unc: 0.0  Diff: 0.0  fit: false\n",
       "                GLPH_1  Pre-fit: 1.00102435400044  Post-fit: 1.00102435045207  Unc: 0.00012839  Diff: -3.5484e-9  fit: true\n",
       "                GLF0_1  Pre-fit: 1.49516420983136e-6  Post-fit: 1.49516419360667e-6  Unc: 1.1057e-10  Diff: -1.6225e-14  fit: true\n",
       "                GLF1_1  Pre-fit: -1.05453021671718e-16  Post-fit: -1.05452983519813e-16  Unc: 5.3959e-18  Diff: 3.8152e-23  fit: true\n",
       "                START  Pre-fit: 51630.7823425918  Post-fit: 51630.7823425918  Unc: 0.0  Diff: 0.0  fit: false\n",
       "                FINISH  Pre-fit: 60019.4601680948  Post-fit: 60019.4601680948  Unc: 0.0  Diff: 0.0  fit: false\n",
       "                TRACK  Pre-fit: -2.0  Post-fit: -2.0  Unc: 0.0  Diff: 0.0  fit: false\n",
       "                TZRMJD  Pre-fit: 55829.8716931642  Post-fit: 55829.8716931642  Unc: 0.0  Diff: 0.0  fit: false\n",
       "                TZRFRQ  Pre-fit: 1368.125977  Post-fit: 1368.125977  Unc: 0.0  Diff: 0.0  fit: false\n",
       "                TRES  Pre-fit: 9876.365  Post-fit: 9876.28374345678  Unc: 0.0  Diff: -0.081257  fit: false\n",
       "                NE_SW  Pre-fit: 4.0  Post-fit: 4.0  Unc: 0.0  Diff: 0.0  fit: false\n",
       "                ALPHA0  Pre-fit: 0.0  Post-fit: 0.0  Unc: 0.0  Diff: 0.0  fit: false\n",
       "                BETA0  Pre-fit: 0.0  Post-fit: 0.0  Unc: 0.0  Diff: 0.0  fit: false\n",
       "        Tempo Output Error:\n",
       "            Error message: \n",
       "            Error type: no_error\n",
       "    Number of saved internal iterations: 1\n",
       "    Number of saved global iterations: 0\n"
      ]
     },
     "metadata": {},
     "output_type": "display_data"
    }
   ],
   "source": [
    "\n",
    "# BEST FIT \n",
    "chisqr_min = results_basic.last_internal_iteration.result.chisqr\n",
    "xpbdot_mu = results_basic.last_internal_iteration.result.XPBDOT.post_fit\n",
    "xpbdot_sigma = results_basic.last_internal_iteration.result.XPBDOT.uncertainty\n",
    "\n",
    "# WE OBTAINED MU AND SIGMA FOR NORMAL LIKELIHOOD\n",
    "# chisqr_min, xpbdot_mu, xpbdot_sigma = 20914.19, -8.29481968690372e-15,  4.7427e-15\n",
    "# BUILD NORMAL LIKELIHOOD\n",
    "xpbdot_normal_likelihood(xpbdot) = pdf(Normal(xpbdot_mu, xpbdot_sigma), xpbdot)\n",
    "# BUILD NORMAL LIKELIHOOD IN CHISQR REPRESENTATION\n",
    "delta_chisqr_normal_likelihood(xpbdot) = -2 * log(xpbdot_normal_likelihood(xpbdot)) + 2 * log(xpbdot_normal_likelihood(xpbdot_mu))"
   ]
  },
  {
   "cell_type": "code",
   "execution_count": null,
   "metadata": {},
   "outputs": [],
   "source": []
  }
 ],
 "metadata": {
  "kernelspec": {
   "display_name": "Julia 1.8.2",
   "language": "julia",
   "name": "julia-1.8"
  },
  "language_info": {
   "file_extension": ".jl",
   "mimetype": "application/julia",
   "name": "julia",
   "version": "1.8.2"
  }
 },
 "nbformat": 4,
 "nbformat_minor": 2
}
